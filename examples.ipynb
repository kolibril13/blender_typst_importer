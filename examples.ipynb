{
 "cells": [
  {
   "cell_type": "markdown",
   "metadata": {},
   "source": [
    "# Typst Express Docs"
   ]
  },
  {
   "cell_type": "code",
   "execution_count": 454,
   "metadata": {},
   "outputs": [],
   "source": [
    "from typst_importer.typst_to_svg import typst_express\n",
    "from typst_importer.curve_utils import shift_scene_content\n",
    "\n",
    "c = typst_express(\"$ a = b/d$\", scale_factor=100, origin_to_char=False)\n",
    "shift_scene_content(c)  "
   ]
  },
  {
   "cell_type": "code",
   "execution_count": 402,
   "metadata": {},
   "outputs": [],
   "source": [
    "content = \"$ limits(integral)_a^b f(x) dif x $\" \n",
    "c = typst_express(content, name=\"Integral Example\")\n",
    "shift_scene_content(c) "
   ]
  },
  {
   "cell_type": "code",
   "execution_count": 403,
   "metadata": {},
   "outputs": [],
   "source": [
    "c = typst_express(\"\"\"\n",
    "#let korange() = text(fill: orange)[$k$]\n",
    "#let nblue() = text(fill: blue)[$n$]\n",
    "$ sum_(#korange() = 1)^#nblue() #korange() = (nblue()(nblue()+1)) / 2 $  \n",
    "\"\"\")\n",
    "shift_scene_content(c) "
   ]
  },
  {
   "cell_type": "code",
   "execution_count": 404,
   "metadata": {},
   "outputs": [],
   "source": [
    "c = typst_express(\"\"\"\n",
    "#set page(width: 900pt, height: auto, margin: 0cm, fill: none)\n",
    "\n",
    "#import \"@preview/codelst:2.0.1\": sourcecode\n",
    "#import \"@preview/tablex:0.0.8\": tablex\n",
    "#let sourcecode = sourcecode.with(frame: (code) => block(\n",
    "  radius: 5pt,\n",
    "  stroke: luma(30),\n",
    "  inset: 30pt,\n",
    "  text(size: 30pt, code)\n",
    "))\n",
    "\n",
    "#sourcecode[```python\n",
    "for i in range(0,10):\n",
    "  print(i)\n",
    "```]\n",
    "\"\"\")\n",
    "shift_scene_content(c, margin=1.2) "
   ]
  },
  {
   "cell_type": "code",
   "execution_count": 405,
   "metadata": {},
   "outputs": [],
   "source": [
    "content = \"\"\"\n",
    "#set page(width: 900pt, height: auto, margin: 0cm, fill: none)\n",
    "\n",
    "#import \"@preview/codelst:2.0.1\": sourcecode\n",
    "#import \"@preview/tablex:0.0.8\": tablex\n",
    "\n",
    "#let sourcecode = sourcecode.with(frame: (code) => block(\n",
    "  radius: 5pt,\n",
    "  stroke: luma(30),\n",
    "  inset: 30pt,\n",
    "  text(size: 30pt, code)\n",
    "))\n",
    "\n",
    "#sourcecode[```python\n",
    "\n",
    "class HelloWorld:\n",
    "    def __init__(self):\n",
    "        self.message = \"Hello, world!\"\n",
    "\n",
    "    def greet(self):\n",
    "        print(self.message)\n",
    "\n",
    "if __name__ == \"__main__\":\n",
    "    hello = HelloWorld()\n",
    "    hello.greet()\n",
    "```]\n",
    "\"\"\"\n",
    "c = typst_express(content)\n",
    "shift_scene_content(c) "
   ]
  },
  {
   "cell_type": "code",
   "execution_count": 406,
   "metadata": {},
   "outputs": [],
   "source": [
    "header = \"\"\"\n",
    "#set page(width: auto, height: auto, margin: 0cm, fill: none)\n",
    "#set text(size: 50pt)\n",
    "\"\"\"\n",
    "body = \"$ a = b/c $\"\n",
    "c = typst_express(header+body)\n",
    "shift_scene_content(c) "
   ]
  },
  {
   "cell_type": "code",
   "execution_count": 407,
   "metadata": {},
   "outputs": [
    {
     "name": "stderr",
     "output_type": "stream",
     "text": [
      "[I 2025-02-06 18:47:43.216 ServerApp] 302 GET / (@127.0.0.1) 0.45ms\n",
      "[I 2025-02-06 18:47:43.217 LabApp] 302 GET /lab? (@127.0.0.1) 0.65ms\n",
      "[I 2025-02-06 18:47:43.257 ServerApp] Kernel started: 260fac4f-506a-4803-a420-6a6d8ddd5ad6\n"
     ]
    }
   ],
   "source": [
    "header = \"\"\"\n",
    "#set page(width: auto, height: auto, margin: 0cm, fill: none)\n",
    "#set text(size: 50pt)\n",
    "\"\"\"\n",
    "body = \"$ limits(integral)_a^b f(x) dif x $\"\n",
    "c = typst_express(header+body)\n",
    "shift_scene_content(c) "
   ]
  },
  {
   "cell_type": "code",
   "execution_count": null,
   "metadata": {},
   "outputs": [],
   "source": []
  }
 ],
 "metadata": {
  "kernelspec": {
   "display_name": "Python 3 (ipykernel)",
   "language": "python",
   "name": "python3"
  },
  "language_info": {
   "codemirror_mode": {
    "name": "ipython",
    "version": 3
   },
   "file_extension": ".py",
   "mimetype": "text/x-python",
   "name": "python",
   "nbconvert_exporter": "python",
   "pygments_lexer": "ipython3",
   "version": "3.11.9"
  }
 },
 "nbformat": 4,
 "nbformat_minor": 2
}
