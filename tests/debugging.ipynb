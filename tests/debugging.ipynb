{
 "cells": [
  {
   "cell_type": "code",
   "execution_count": null,
   "metadata": {},
   "outputs": [],
   "source": [
    "%reload_ext autoreload\n",
    "%autoreload 2"
   ]
  },
  {
   "cell_type": "code",
   "execution_count": null,
   "metadata": {},
   "outputs": [],
   "source": [
    "import sys\n",
    "# just in case reload_ext does not work\n",
    "# Remove the modules if they exist in sys.modules\n",
    "for mod in [\"typst_importer.typst_to_svg\", \"typst_importer.curve_utils\", \"typst_importer.svg_preprocessing\"]:\n",
    "    if mod in sys.modules:\n",
    "        print(f\"Removing {mod} from sys.modules\")\n",
    "        del sys.modules[mod]\n",
    "\n",
    "# Now Python 'forgets' those imports. Reimport them:\n",
    "from typst_importer.typst_to_svg import typst_express\n",
    "from typst_importer.curve_utils import shift_scene_content"
   ]
  },
  {
   "cell_type": "code",
   "execution_count": 642,
   "metadata": {},
   "outputs": [],
   "source": [
    "import bpy\n",
    "import sys\n",
    "import tempfile\n",
    "import typst\n",
    "from pathlib import Path\n",
    "\n",
    "project_root = Path.home() / \"projects/blender_typst_importer/\"\n",
    "sys.path.append(str(project_root))\n",
    "\n",
    "from typst_importer.notebook_utils import display_svg\n",
    "\n",
    "#uv pip install lxml\n",
    "#uv pip install numpy==1.26.4\n",
    "# so that code highlighting works\n",
    "\n",
    "temp_dir = Path(tempfile.gettempdir())\n",
    "#temp_dir = Path.cwd()\n",
    "svg_file = temp_dir / \"step1.svg\""
   ]
  },
  {
   "cell_type": "markdown",
   "metadata": {},
   "source": [
    "# Select Typst File"
   ]
  },
  {
   "cell_type": "code",
   "execution_count": null,
   "metadata": {},
   "outputs": [],
   "source": [
    "file_content = \"\"\"\n",
    "#set page(width: auto, height: auto, margin: 0cm, fill: none)\n",
    "#set text(size: 50pt)\n",
    "\n",
    "$ a= b/c $  \n",
    "\"\"\"\n",
    "typst_file = temp_dir / \"step1.typ\"\n",
    "typst_file.write_text(file_content)"
   ]
  },
  {
   "cell_type": "code",
   "execution_count": 644,
   "metadata": {},
   "outputs": [],
   "source": [
    "typst_path = Path.home() / \"projects/blender_typst_importer/docs/\"\n",
    "typst_file = typst_path / \"matrix.txt\"\n",
    "typst_file = typst_path / \"code.txt\"\n",
    "typst_file = typst_path / \"color_eq.txt\""
   ]
  },
  {
   "cell_type": "markdown",
   "metadata": {},
   "source": [
    "# Manual SVG conversion + add to scene"
   ]
  },
  {
   "cell_type": "code",
   "execution_count": null,
   "metadata": {},
   "outputs": [],
   "source": [
    "from typst_importer.svg_preprocessing import preprocess_svg, stroke_to_filled_path\n",
    "\n",
    "typst.compile(typst_file, format=\"svg\", output=str(svg_file))\n",
    "\n",
    "step1_content = svg_file.read_text()\n",
    "step2_content = preprocess_svg(step1_content)\n",
    "step3_content = stroke_to_filled_path(step2_content)\n",
    "\n",
    "\n",
    "display_svg(step1_content , width='500px')\n",
    "display_svg(step3_content , width='500px')"
   ]
  },
  {
   "cell_type": "markdown",
   "metadata": {},
   "source": [
    "# SVG Blender Operations"
   ]
  },
  {
   "cell_type": "code",
   "execution_count": 646,
   "metadata": {},
   "outputs": [],
   "source": [
    "output_file = temp_dir / \"step3.svg\"\n",
    "output_file.write_text(step3_content)\n",
    "\n",
    "bpy.ops.import_curve.svg(filepath=str(output_file))\n",
    "col = bpy.context.scene.collection.children['step3.svg']\n",
    "col.name = \"Formula\"\n",
    "\n",
    "for obj in col.objects:\n",
    "    obj.scale = (100, 100, 100) # this is the old method, #better \n",
    "    # obj.data.transform(Matrix.Scale(scale_factor, 4))"
   ]
  },
  {
   "cell_type": "code",
   "execution_count": 647,
   "metadata": {},
   "outputs": [],
   "source": [
    "# Loop through each object in the collection and set its origin\n",
    "bpy.ops.object.select_all(action='DESELECT')\n",
    "if col.objects:\n",
    "    # Set the first object as active\n",
    "    bpy.context.view_layer.objects.active = col.objects[0]\n",
    "    # Now we can safely set the mode to OBJECT\n",
    "    bpy.ops.object.mode_set(mode='OBJECT') \n",
    "    for obj in col.objects:\n",
    "        bpy.context.view_layer.objects.active = obj\n",
    "        obj.select_set(True)\n",
    "        bpy.ops.object.origin_set(type='ORIGIN_GEOMETRY', center='MEDIAN')\n",
    "        obj.select_set(False)"
   ]
  },
  {
   "cell_type": "markdown",
   "metadata": {},
   "source": [
    "# Half automated\n",
    "\n"
   ]
  },
  {
   "cell_type": "code",
   "execution_count": 648,
   "metadata": {},
   "outputs": [],
   "source": [
    "import tempfile\n",
    "from pathlib import Path\n",
    "from typst_importer.typst_to_svg import typst_to_blender_curves\n",
    "typst_file =  Path(tempfile.gettempdir()) / \"hello.typ\"\n",
    "\n",
    "header = \"\"\"\n",
    "#set page(width: auto, height: auto, margin: 0cm, fill: none)\n",
    "#set text(size: 50pt)\n",
    "\"\"\"\n",
    "body = \"$ a= b/c $\"\n",
    "typst_file.write_text(header+body)\n",
    "collection = typst_to_blender_curves(typst_file)"
   ]
  },
  {
   "cell_type": "markdown",
   "metadata": {},
   "source": [
    "# Full automated"
   ]
  },
  {
   "cell_type": "code",
   "execution_count": null,
   "metadata": {},
   "outputs": [
    {
     "name": "stderr",
     "output_type": "stream",
     "text": [
      "[I 2025-02-07 11:50:49.339 ServerApp] 302 GET / (@127.0.0.1) 0.42ms\n",
      "[I 2025-02-07 11:50:49.344 LabApp] 302 GET /lab? (@127.0.0.1) 2.59ms\n",
      "[I 2025-02-07 11:50:49.406 ServerApp] Connecting to kernel 5e4cc335-0fd3-4d22-b99a-fc5bc33a00cb.\n",
      "[I 2025-02-07 11:50:49.408 ServerApp] Discarding 139 buffered messages for 5e4cc335-0fd3-4d22-b99a-fc5bc33a00cb:814013a2-a002-4321-9b93-31f97d0afaf9\n"
     ]
    }
   ],
   "source": [
    "from typst_importer.typst_to_svg import typst_express\n",
    "from typst_importer.curve_utils import shift_scene_content\n",
    "\n",
    "c = typst_express(\"$ a = b/d $\", scale_factor=100, origin_to_char=False)"
   ]
  }
 ],
 "metadata": {
  "kernelspec": {
   "display_name": "Python 3 (ipykernel)",
   "language": "python",
   "name": "python3"
  },
  "language_info": {
   "codemirror_mode": {
    "name": "ipython",
    "version": 3
   },
   "file_extension": ".py",
   "mimetype": "text/x-python",
   "name": "python",
   "nbconvert_exporter": "python",
   "pygments_lexer": "ipython3",
   "version": "3.11.9"
  }
 },
 "nbformat": 4,
 "nbformat_minor": 2
}
