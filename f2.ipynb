{
 "cells": [
  {
   "cell_type": "code",
   "execution_count": 28,
   "metadata": {},
   "outputs": [],
   "source": [
    "%reload_ext autoreload\n",
    "%autoreload 2"
   ]
  },
  {
   "cell_type": "code",
   "execution_count": 29,
   "metadata": {},
   "outputs": [],
   "source": [
    "import bpy\n",
    "import sys\n",
    "import tempfile\n",
    "import typst\n",
    "from pathlib import Path\n",
    "\n",
    "project_root = Path.home() / \"projects/blender_typst_importer/\"\n",
    "sys.path.append(str(project_root))\n"
   ]
  },
  {
   "cell_type": "code",
   "execution_count": 33,
   "metadata": {},
   "outputs": [
    {
     "data": {
      "text/html": [
       "<style>.svg-container svg { max-width: 100%; height: auto; display: block; }</style><div class='svg-container' style='width:230px;'><svg xmlns=\"http://www.w3.org/2000/svg\" xmlns:xlink=\"http://www.w3.org/1999/xlink\" xmlns:h5=\"http://www.w3.org/1999/xhtml\" class=\"typst-doc\" viewBox=\"0 0 199.29999999999998 38.85\" width=\"199.29999999999998pt\" height=\"38.85pt\">\n",
       "    <g>\n",
       "        <g transform=\"translate(0 34.699999999999996)\">\n",
       "            <g class=\"typst-text\" transform=\"scale(1, -1)\">\n",
       "                <g fill=\"#7fdbff\" fill-rule=\"nonzero\"><path d=\"M 24.9 7.2000003 C 24.9 7.65 24.65 7.9 24.1 7.9 C 23.7 7.9 23.4 7.55 23.25 6.85 C 22.25 2.9 21.050001 0.90000004 19.7 0.90000004 C 18.85 0.90000004 18.4 1.6 18.4 3 C 18.4 3.65 18.6 4.85 19.050001 6.6 L 21.9 17.85 C 22.15 18.800001 22.25 19.35 22.25 19.6 C 22.25 20.6 21.7 21.1 20.6 21.1 C 19.550001 21.1 18.85 20.5 18.5 19.35 C 17.45 21.2 15.95 22.1 14.05 22.1 C 10.8 22.1 7.9500003 20.45 5.4500003 17.15 C 3.15 14.05 2 10.85 2 7.5 C 2 3.15 4.55 -0.55 8.75 -0.55 C 10.900001 -0.55 13 0.6 15 2.9 C 15.55 1 17.25 -0.55 19.6 -0.55 C 23.050001 -0.55 24.1 3.5 24.9 7.2000003 Z M 17.050001 18.7 C 17.5 17.65 17.75 16.95 17.75 16.5 C 17.75 16.300001 17.7 16.050001 17.65 15.7 L 15.2 6.1 C 15.05 5.55 14.7 4.9500003 14.25 4.35 C 12.400001 2.05 10.6 0.90000004 8.85 0.90000004 C 6.9 0.90000004 5.9 2.4 5.9 5.35 C 5.9 6.55 6.2000003 8.35 6.8 10.75 C 7.85 15 9.35 17.85 11.2 19.4 C 12.2 20.25 13.150001 20.65 14.1 20.65 C 15.45 20.65 16.45 20 17.050001 18.7 Z \"/>\n",
       "        </g></g>\n",
       "        </g>\n",
       "        <g transform=\"translate(40.33888888888889 34.699999999999996)\">\n",
       "            <g class=\"typst-text\" transform=\"scale(1, -1)\">\n",
       "                <g fill=\"#7fdbff\" fill-rule=\"nonzero\"><path d=\"M 34.9 18.35 L 4 18.35 C 3.2 18.35 2.8 17.95 2.8 17.2 C 2.8 16.45 3.2 16.050001 4 16.050001 L 34.9 16.050001 C 35.7 16.050001 36.100002 16.45 36.100002 17.2 C 36.100002 17.800001 35.55 18.35 34.9 18.35 Z M 34.9 8.95 L 4 8.95 C 3.2 8.95 2.8 8.55 2.8 7.8 C 2.8 7.05 3.2 6.65 4 6.65 L 34.9 6.65 C 35.7 6.65 36.100002 7.05 36.100002 7.8 C 36.100002 8.45 35.55 8.95 34.9 8.95 Z \"/>\n",
       "        </g></g>\n",
       "        </g>\n",
       "        <g transform=\"translate(93.12777777777778 34.699999999999996)\">\n",
       "            <g class=\"typst-text\" transform=\"scale(1, -1)\">\n",
       "                <g fill=\"#7fdbff\" fill-rule=\"nonzero\"><path d=\"M 14.05 22.25 C 12.25 22.25 10.45 21.4 8.7 19.7 L 12.150001 33.95 C 12.05 34.4 11.900001 34.7 11.3 34.7 C 9.650001 34.7 6 34.25 5.35 34.2 C 4.6 34.100002 4.2000003 33.75 4.2000003 33 C 4.2000003 32.5 4.65 32.25 5.6 32.25 C 6.55 32.25 7.85 32.3 7.85 31.6 C 7.85 31.4 7.6 30.4 7.15 28.550001 L 3.15 12.45 C 2.6000001 10.35 2.3500001 8.650001 2.3500001 7.4 C 2.3500001 3.1000001 4.65 -0.55 8.75 -0.55 C 12 -0.55 14.85 1.1 17.35 4.4500003 C 19.6 7.55 20.75 10.8 20.75 14.150001 C 20.75 18.5 18.2 22.25 14.05 22.25 Z M 13.95 20.75 C 15.900001 20.75 16.85 19.25 16.85 16.300001 C 16.85 14.95 16.550001 13.150001 15.95 10.900001 C 14.85 6.65 13.400001 3.75 11.650001 2.2 C 10.650001 1.35 9.7 0.95 8.75 0.95 C 6.7000003 0.95 5.7000003 2.55 5.7000003 5.75 C 5.7000003 6.85 5.9500003 8.5 6.4500003 10.7 L 7.55 15.2 C 7.7000003 15.95 7.9500003 16.5 8.25 16.9 C 10.2 19.45 12.1 20.75 13.95 20.75 Z \"/>\n",
       "        </g></g>\n",
       "        </g>\n",
       "        <g transform=\"translate(126.38888888888889 34.699999999999996)\">\n",
       "            <g class=\"typst-text\" transform=\"scale(1, -1)\">\n",
       "                <g fill=\"#7fdbff\" fill-rule=\"nonzero\"><path d=\"M 34.9 13.7 L 20.65 13.7 L 20.65 27.95 C 20.65 28.75 20.25 29.15 19.45 29.15 C 18.65 29.15 18.25 28.75 18.25 27.95 L 18.25 13.7 L 4 13.7 C 3.2 13.7 2.8 13.3 2.8 12.5 C 2.8 11.7 3.2 11.3 4 11.3 L 18.25 11.3 L 18.25 -2.95 C 18.25 -3.75 18.65 -4.15 19.45 -4.15 C 20.25 -4.15 20.65 -3.75 20.65 -2.95 L 20.65 11.3 L 34.9 11.3 C 35.7 11.3 36.100002 11.7 36.100002 12.5 C 36.100002 13.150001 35.55 13.7 34.9 13.7 Z \"/>\n",
       "        </g></g>\n",
       "        </g>\n",
       "        <g transform=\"translate(176.4 34.699999999999996)\">\n",
       "            <g class=\"typst-text\" transform=\"scale(1, -1)\">\n",
       "                <g fill=\"#7fdbff\" fill-rule=\"nonzero\"><path d=\"M 16.4 16.25 C 16.4 15 17.050001 14.35 18.4 14.35 C 20.2 14.35 21.35 15.900001 21.35 17.7 C 21.35 20.5 18.4 22.1 15.400001 22.1 C 11.95 22.1 8.8 20.6 6.1 17.65 C 3.4 14.7 2.05 11.45 2.05 7.9500003 C 2.05 3.05 5.3 -0.55 10.2 -0.55 C 12.85 -0.55 15.2 0.1 17.25 1.35 C 18.95 2.4 20.2 3.45 21 4.5 C 21.35 4.9500003 21.5 5.3 21.5 5.4500003 C 21.5 6 21.25 6.3 20.7 6.3 C 20.45 6.3 20.2 6.1 19.9 5.7000003 C 18.25 3.5 16.2 2.1000001 13.85 1.5 C 12.3 1.1 11.150001 0.90000004 10.3 0.90000004 C 7.4500003 0.90000004 6.05 2.65 6.05 6.1 C 6.05 9.2 7.5 13.7 8.7 15.85 C 9.900001 18.050001 12.45 20.65 15.400001 20.65 C 17.300001 20.65 18.6 20.1 19.300001 19.050001 C 17.75 18.9 16.4 17.9 16.4 16.25 Z \"/>\n",
       "        </g></g>\n",
       "        </g>\n",
       "    </g>\n",
       "    </svg>\n",
       "</div>"
      ],
      "text/plain": [
       "<IPython.core.display.HTML object>"
      ]
     },
     "metadata": {},
     "output_type": "display_data"
    }
   ],
   "source": [
    "from typst_importer.typst_to_svg import typst_express\n",
    "from typst_importer.notebook_utils import display_svg\n",
    "\n",
    "def eq(equation: str, name: str, color: str, position=(0, 0, 0), show_indices=False):\n",
    "\n",
    "    typst_code = f\"\"\"\n",
    "    #set text({color})\n",
    "    $ {equation} $\n",
    "    \"\"\"\n",
    "    collection = typst_express(\n",
    "        typst_code,\n",
    "        origin_to_char=True,\n",
    "        convert_to_mesh=True,\n",
    "        name=name,\n",
    "        position=position,\n",
    "        show_indices=show_indices\n",
    "    )\n",
    "    display_svg(collection.processed_svg, width=\"230px\")\n",
    "    return collection\n",
    "imported_collection = eq(\"a = b + c\", \"Start\", \"aqua\", (0, 0, 0.1), show_indices=False)\n",
    "# eq(\"a = b + c\", \"End\", \"olive\", (0, -0.8, 0));"
   ]
  },
  {
   "cell_type": "code",
   "execution_count": 34,
   "metadata": {},
   "outputs": [],
   "source": [
    "\n",
    "# Create a new collection for indices if there are multiple objects\n",
    "if len(imported_collection.objects) > 1:\n",
    "    indices_collection = bpy.data.collections.new(f\"{imported_collection.name}_Indices\")\n",
    "    bpy.context.scene.collection.children.link(indices_collection)\n",
    "    \n",
    "    for i, obj in enumerate(imported_collection.objects):\n",
    "        # Create text object at the same location as the curve/mesh\n",
    "        bpy.ops.object.text_add(location=obj.location)\n",
    "        text_obj = bpy.context.active_object\n",
    "        text_obj.data.body = str(i)\n",
    "        text_obj.name = f\"Index_{i}\"\n",
    "        \n",
    "        # Set text color to red\n",
    "        if \"Index_Material\" not in bpy.data.materials:\n",
    "            mat = bpy.data.materials.new(\"Index_Material\")\n",
    "            mat.diffuse_color = (1.0, 0.0, 0.0, 1.0)  # Red color\n",
    "        else:\n",
    "            mat = bpy.data.materials[\"Index_Material\"]\n",
    "        \n",
    "        if text_obj.data.materials:\n",
    "            text_obj.data.materials[0] = mat\n",
    "        else:\n",
    "            text_obj.data.materials.append(mat)\n",
    "        \n",
    "        # Move from scene collection to indices collection\n",
    "        bpy.context.scene.collection.objects.unlink(text_obj)\n",
    "        indices_collection.objects.link(text_obj)\n"
   ]
  }
 ],
 "metadata": {
  "kernelspec": {
   "display_name": "Python 3 (ipykernel)",
   "language": "python",
   "name": "python3"
  },
  "language_info": {
   "codemirror_mode": {
    "name": "ipython",
    "version": 3
   },
   "file_extension": ".py",
   "mimetype": "text/x-python",
   "name": "python",
   "nbconvert_exporter": "python",
   "pygments_lexer": "ipython3",
   "version": "3.11.9"
  }
 },
 "nbformat": 4,
 "nbformat_minor": 2
}
