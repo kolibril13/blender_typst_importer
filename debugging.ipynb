{
 "cells": [
  {
   "cell_type": "code",
   "execution_count": 42,
   "metadata": {},
   "outputs": [],
   "source": [
    "%reload_ext autoreload\n",
    "%autoreload 2"
   ]
  },
  {
   "cell_type": "code",
   "execution_count": 43,
   "metadata": {},
   "outputs": [],
   "source": [
    "from pathlib import Path\n",
    "import sys\n",
    "from IPython.display import display, HTML\n",
    "import bpy\n",
    "import typst\n",
    "import tempfile\n",
    "\n",
    "project_root = Path.home() / \"projects/blender_typst_importer/\"\n",
    "sys.path.append(str(project_root))\n",
    "\n",
    "\n",
    "def display_svg(svg_content, width='100px'):\n",
    "    html_content = (\n",
    "        \"<style>\"\n",
    "        \".svg-container svg { max-width: 100%; height: auto; display: block; }\"\n",
    "        \"</style>\"\n",
    "    )\n",
    "    html_content += f\"<div class='svg-container' style='width:{width};'>{svg_content}</div>\"\n",
    "    display(HTML(html_content))\n",
    "\n",
    "#uv pip install lxml\n",
    "#uv pip install numpy==1.26.4\n",
    "\n",
    "\n",
    "temp_dir = Path(tempfile.gettempdir())\n",
    "#temp_dir = Path.cwd()\n",
    "typst_file = temp_dir / \"step1.typ\"\n",
    "svg_file = temp_dir / \"step1.svg\""
   ]
  },
  {
   "cell_type": "markdown",
   "metadata": {},
   "source": [
    "# Writing example Typst Files"
   ]
  },
  {
   "cell_type": "code",
   "execution_count": 63,
   "metadata": {},
   "outputs": [
    {
     "data": {
      "text/plain": [
       "99"
      ]
     },
     "execution_count": 63,
     "metadata": {},
     "output_type": "execute_result"
    }
   ],
   "source": [
    "file_content = \"\"\"\n",
    "#set page(width: auto, height: auto, margin: 0cm, fill: none)\n",
    "#set text(size: 50pt)\n",
    "\n",
    "$ a= b/c $  \n",
    "\"\"\"\n",
    "typst_file.write_text(file_content)"
   ]
  },
  {
   "cell_type": "code",
   "execution_count": 57,
   "metadata": {},
   "outputs": [
    {
     "data": {
      "text/plain": [
       "238"
      ]
     },
     "execution_count": 57,
     "metadata": {},
     "output_type": "execute_result"
    }
   ],
   "source": [
    "file_content = \"\"\"\n",
    "#set page(width: auto, height: auto, margin: 0cm, fill: none)\n",
    "#set text(size: 50pt)\n",
    "\n",
    "#let korange() = text(fill: orange)[$k$]\n",
    "#let nblue() = text(fill: blue)[$n$]\n",
    "$ sum_(#korange() = 1)^#nblue() #korange() = (nblue()(nblue()+1)) / 2 $  \n",
    "\"\"\"\n",
    "typst_file.write_text(file_content)"
   ]
  },
  {
   "cell_type": "code",
   "execution_count": 46,
   "metadata": {},
   "outputs": [
    {
     "data": {
      "text/plain": [
       "347"
      ]
     },
     "execution_count": 46,
     "metadata": {},
     "output_type": "execute_result"
    }
   ],
   "source": [
    "file_content = \"\"\"\n",
    "#set page(width: 900pt, height: auto, margin: 0cm, fill: none)\n",
    "\n",
    "#import \"@preview/codelst:2.0.1\": sourcecode\n",
    "#import \"@preview/tablex:0.0.8\": tablex\n",
    "#let sourcecode = sourcecode.with(frame: (code) => block(\n",
    "  radius: 5pt,\n",
    "  stroke: luma(30),\n",
    "  inset: 30pt,\n",
    "  text(size: 30pt, code)\n",
    "))\n",
    "\n",
    "#sourcecode[```python\n",
    "for i in range(0,10):\n",
    "  print(i)\n",
    "```]\n",
    "\"\"\"\n",
    "typst_file.write_text(file_content)"
   ]
  },
  {
   "cell_type": "markdown",
   "metadata": {},
   "source": [
    "# Manual SVG conversion + add to scene"
   ]
  },
  {
   "cell_type": "code",
   "execution_count": 64,
   "metadata": {},
   "outputs": [
    {
     "data": {
      "text/html": [
       "<style>.svg-container svg { max-width: 100%; height: auto; display: block; }</style><div class='svg-container' style='width:500px;'><svg class=\"typst-doc\" viewBox=\"0 0 126.02777777777777 103.4\" width=\"126.02777777777777pt\" height=\"103.4pt\" xmlns=\"http://www.w3.org/2000/svg\" xmlns:xlink=\"http://www.w3.org/1999/xlink\" xmlns:h5=\"http://www.w3.org/1999/xhtml\">\n",
       "    <g>\n",
       "        <g transform=\"translate(0 68.55)\">\n",
       "            <g class=\"typst-text\" transform=\"scale(1, -1)\">\n",
       "                <use xlink:href=\"#gE3DC68D5509581F6B49E9421EB2A2915\" x=\"0\" fill=\"#000000\" fill-rule=\"nonzero\"/>\n",
       "            </g>\n",
       "        </g>\n",
       "        <g transform=\"translate(40.33888888888889 68.55)\">\n",
       "            <g class=\"typst-text\" transform=\"scale(1, -1)\">\n",
       "                <use xlink:href=\"#gE8020CF8D6D84D2B93C3C10ADA97FC21\" x=\"0\" fill=\"#000000\" fill-rule=\"nonzero\"/>\n",
       "            </g>\n",
       "        </g>\n",
       "        <g transform=\"translate(98.50277777777778 34.699999999999996)\">\n",
       "            <g class=\"typst-text\" transform=\"scale(1, -1)\">\n",
       "                <use xlink:href=\"#g94BA31C14A06A65540BFE5D45C77049F\" x=\"0\" fill=\"#000000\" fill-rule=\"nonzero\"/>\n",
       "            </g>\n",
       "        </g>\n",
       "        <g transform=\"translate(98.12777777777778 102.85000000000001)\">\n",
       "            <g class=\"typst-text\" transform=\"scale(1, -1)\">\n",
       "                <use xlink:href=\"#gD5999A55F34C79C37382B148B976B2E7\" x=\"0\" fill=\"#000000\" fill-rule=\"nonzero\"/>\n",
       "            </g>\n",
       "        </g>\n",
       "        <g transform=\"translate(98.12777777777778 56.050000000000004)\">\n",
       "            <path class=\"typst-shape\" fill=\"none\" stroke=\"#000000\" stroke-width=\"2.4\" stroke-linecap=\"butt\" stroke-linejoin=\"miter\" stroke-miterlimit=\"4\" d=\"M 0 0 L 22.9 0 \"/>\n",
       "        </g>\n",
       "    </g>\n",
       "    <defs id=\"glyph\">\n",
       "        <symbol id=\"gE3DC68D5509581F6B49E9421EB2A2915\" overflow=\"visible\">\n",
       "            <path d=\"M 24.9 7.2000003 C 24.9 7.65 24.65 7.9 24.1 7.9 C 23.7 7.9 23.4 7.55 23.25 6.85 C 22.25 2.9 21.050001 0.90000004 19.7 0.90000004 C 18.85 0.90000004 18.4 1.6 18.4 3 C 18.4 3.65 18.6 4.85 19.050001 6.6 L 21.9 17.85 C 22.15 18.800001 22.25 19.35 22.25 19.6 C 22.25 20.6 21.7 21.1 20.6 21.1 C 19.550001 21.1 18.85 20.5 18.5 19.35 C 17.45 21.2 15.95 22.1 14.05 22.1 C 10.8 22.1 7.9500003 20.45 5.4500003 17.15 C 3.15 14.05 2 10.85 2 7.5 C 2 3.15 4.55 -0.55 8.75 -0.55 C 10.900001 -0.55 13 0.6 15 2.9 C 15.55 1 17.25 -0.55 19.6 -0.55 C 23.050001 -0.55 24.1 3.5 24.9 7.2000003 Z M 17.050001 18.7 C 17.5 17.65 17.75 16.95 17.75 16.5 C 17.75 16.300001 17.7 16.050001 17.65 15.7 L 15.2 6.1 C 15.05 5.55 14.7 4.9500003 14.25 4.35 C 12.400001 2.05 10.6 0.90000004 8.85 0.90000004 C 6.9 0.90000004 5.9 2.4 5.9 5.35 C 5.9 6.55 6.2000003 8.35 6.8 10.75 C 7.85 15 9.35 17.85 11.2 19.4 C 12.2 20.25 13.150001 20.65 14.1 20.65 C 15.45 20.65 16.45 20 17.050001 18.7 Z \"/>\n",
       "        </symbol>\n",
       "        <symbol id=\"gE8020CF8D6D84D2B93C3C10ADA97FC21\" overflow=\"visible\">\n",
       "            <path d=\"M 34.9 18.35 L 4 18.35 C 3.2 18.35 2.8 17.95 2.8 17.2 C 2.8 16.45 3.2 16.050001 4 16.050001 L 34.9 16.050001 C 35.7 16.050001 36.100002 16.45 36.100002 17.2 C 36.100002 17.800001 35.55 18.35 34.9 18.35 Z M 34.9 8.95 L 4 8.95 C 3.2 8.95 2.8 8.55 2.8 7.8 C 2.8 7.05 3.2 6.65 4 6.65 L 34.9 6.65 C 35.7 6.65 36.100002 7.05 36.100002 7.8 C 36.100002 8.45 35.55 8.95 34.9 8.95 Z \"/>\n",
       "        </symbol>\n",
       "        <symbol id=\"g94BA31C14A06A65540BFE5D45C77049F\" overflow=\"visible\">\n",
       "            <path d=\"M 14.05 22.25 C 12.25 22.25 10.45 21.4 8.7 19.7 L 12.150001 33.95 C 12.05 34.4 11.900001 34.7 11.3 34.7 C 9.650001 34.7 6 34.25 5.35 34.2 C 4.6 34.100002 4.2000003 33.75 4.2000003 33 C 4.2000003 32.5 4.65 32.25 5.6 32.25 C 6.55 32.25 7.85 32.3 7.85 31.6 C 7.85 31.4 7.6 30.4 7.15 28.550001 L 3.15 12.45 C 2.6000001 10.35 2.3500001 8.650001 2.3500001 7.4 C 2.3500001 3.1000001 4.65 -0.55 8.75 -0.55 C 12 -0.55 14.85 1.1 17.35 4.4500003 C 19.6 7.55 20.75 10.8 20.75 14.150001 C 20.75 18.5 18.2 22.25 14.05 22.25 Z M 13.95 20.75 C 15.900001 20.75 16.85 19.25 16.85 16.300001 C 16.85 14.95 16.550001 13.150001 15.95 10.900001 C 14.85 6.65 13.400001 3.75 11.650001 2.2 C 10.650001 1.35 9.7 0.95 8.75 0.95 C 6.7000003 0.95 5.7000003 2.55 5.7000003 5.75 C 5.7000003 6.85 5.9500003 8.5 6.4500003 10.7 L 7.55 15.2 C 7.7000003 15.95 7.9500003 16.5 8.25 16.9 C 10.2 19.45 12.1 20.75 13.95 20.75 Z \"/>\n",
       "        </symbol>\n",
       "        <symbol id=\"gD5999A55F34C79C37382B148B976B2E7\" overflow=\"visible\">\n",
       "            <path d=\"M 16.4 16.25 C 16.4 15 17.050001 14.35 18.4 14.35 C 20.2 14.35 21.35 15.900001 21.35 17.7 C 21.35 20.5 18.4 22.1 15.400001 22.1 C 11.95 22.1 8.8 20.6 6.1 17.65 C 3.4 14.7 2.05 11.45 2.05 7.9500003 C 2.05 3.05 5.3 -0.55 10.2 -0.55 C 12.85 -0.55 15.2 0.1 17.25 1.35 C 18.95 2.4 20.2 3.45 21 4.5 C 21.35 4.9500003 21.5 5.3 21.5 5.4500003 C 21.5 6 21.25 6.3 20.7 6.3 C 20.45 6.3 20.2 6.1 19.9 5.7000003 C 18.25 3.5 16.2 2.1000001 13.85 1.5 C 12.3 1.1 11.150001 0.90000004 10.3 0.90000004 C 7.4500003 0.90000004 6.05 2.65 6.05 6.1 C 6.05 9.2 7.5 13.7 8.7 15.85 C 9.900001 18.050001 12.45 20.65 15.400001 20.65 C 17.300001 20.65 18.6 20.1 19.300001 19.050001 C 17.75 18.9 16.4 17.9 16.4 16.25 Z \"/>\n",
       "        </symbol>\n",
       "    </defs>\n",
       "</svg>\n",
       "</div>"
      ],
      "text/plain": [
       "<IPython.core.display.HTML object>"
      ]
     },
     "metadata": {},
     "output_type": "display_data"
    },
    {
     "data": {
      "text/html": [
       "<style>.svg-container svg { max-width: 100%; height: auto; display: block; }</style><div class='svg-container' style='width:500px;'><svg xmlns=\"http://www.w3.org/2000/svg\" xmlns:xlink=\"http://www.w3.org/1999/xlink\" xmlns:h5=\"http://www.w3.org/1999/xhtml\" class=\"typst-doc\" viewBox=\"0 0 126.02777777777777 103.4\" width=\"126.02777777777777pt\" height=\"103.4pt\">\n",
       "  <g>\n",
       "    <g transform=\"translate(0 68.55)\">\n",
       "      <g class=\"typst-text\" transform=\"scale(1, -1)\">\n",
       "        <g fill=\"#000000\" fill-rule=\"nonzero\">\n",
       "          <path d=\"M 24.9 7.2000003 C 24.9 7.65 24.65 7.9 24.1 7.9 C 23.7 7.9 23.4 7.55 23.25 6.85 C 22.25 2.9 21.050001 0.90000004 19.7 0.90000004 C 18.85 0.90000004 18.4 1.6 18.4 3 C 18.4 3.65 18.6 4.85 19.050001 6.6 L 21.9 17.85 C 22.15 18.800001 22.25 19.35 22.25 19.6 C 22.25 20.6 21.7 21.1 20.6 21.1 C 19.550001 21.1 18.85 20.5 18.5 19.35 C 17.45 21.2 15.95 22.1 14.05 22.1 C 10.8 22.1 7.9500003 20.45 5.4500003 17.15 C 3.15 14.05 2 10.85 2 7.5 C 2 3.15 4.55 -0.55 8.75 -0.55 C 10.900001 -0.55 13 0.6 15 2.9 C 15.55 1 17.25 -0.55 19.6 -0.55 C 23.050001 -0.55 24.1 3.5 24.9 7.2000003 Z M 17.050001 18.7 C 17.5 17.65 17.75 16.95 17.75 16.5 C 17.75 16.300001 17.7 16.050001 17.65 15.7 L 15.2 6.1 C 15.05 5.55 14.7 4.9500003 14.25 4.35 C 12.400001 2.05 10.6 0.90000004 8.85 0.90000004 C 6.9 0.90000004 5.9 2.4 5.9 5.35 C 5.9 6.55 6.2000003 8.35 6.8 10.75 C 7.85 15 9.35 17.85 11.2 19.4 C 12.2 20.25 13.150001 20.65 14.1 20.65 C 15.45 20.65 16.45 20 17.050001 18.7 Z \"/>\n",
       "        </g>\n",
       "      </g>\n",
       "    </g>\n",
       "    <g transform=\"translate(40.33888888888889 68.55)\">\n",
       "      <g class=\"typst-text\" transform=\"scale(1, -1)\">\n",
       "        <g fill=\"#000000\" fill-rule=\"nonzero\">\n",
       "          <path d=\"M 34.9 18.35 L 4 18.35 C 3.2 18.35 2.8 17.95 2.8 17.2 C 2.8 16.45 3.2 16.050001 4 16.050001 L 34.9 16.050001 C 35.7 16.050001 36.100002 16.45 36.100002 17.2 C 36.100002 17.800001 35.55 18.35 34.9 18.35 Z M 34.9 8.95 L 4 8.95 C 3.2 8.95 2.8 8.55 2.8 7.8 C 2.8 7.05 3.2 6.65 4 6.65 L 34.9 6.65 C 35.7 6.65 36.100002 7.05 36.100002 7.8 C 36.100002 8.45 35.55 8.95 34.9 8.95 Z \"/>\n",
       "        </g>\n",
       "      </g>\n",
       "    </g>\n",
       "    <g transform=\"translate(98.50277777777778 34.699999999999996)\">\n",
       "      <g class=\"typst-text\" transform=\"scale(1, -1)\">\n",
       "        <g fill=\"#000000\" fill-rule=\"nonzero\">\n",
       "          <path d=\"M 14.05 22.25 C 12.25 22.25 10.45 21.4 8.7 19.7 L 12.150001 33.95 C 12.05 34.4 11.900001 34.7 11.3 34.7 C 9.650001 34.7 6 34.25 5.35 34.2 C 4.6 34.100002 4.2000003 33.75 4.2000003 33 C 4.2000003 32.5 4.65 32.25 5.6 32.25 C 6.55 32.25 7.85 32.3 7.85 31.6 C 7.85 31.4 7.6 30.4 7.15 28.550001 L 3.15 12.45 C 2.6000001 10.35 2.3500001 8.650001 2.3500001 7.4 C 2.3500001 3.1000001 4.65 -0.55 8.75 -0.55 C 12 -0.55 14.85 1.1 17.35 4.4500003 C 19.6 7.55 20.75 10.8 20.75 14.150001 C 20.75 18.5 18.2 22.25 14.05 22.25 Z M 13.95 20.75 C 15.900001 20.75 16.85 19.25 16.85 16.300001 C 16.85 14.95 16.550001 13.150001 15.95 10.900001 C 14.85 6.65 13.400001 3.75 11.650001 2.2 C 10.650001 1.35 9.7 0.95 8.75 0.95 C 6.7000003 0.95 5.7000003 2.55 5.7000003 5.75 C 5.7000003 6.85 5.9500003 8.5 6.4500003 10.7 L 7.55 15.2 C 7.7000003 15.95 7.9500003 16.5 8.25 16.9 C 10.2 19.45 12.1 20.75 13.95 20.75 Z \"/>\n",
       "        </g>\n",
       "      </g>\n",
       "    </g>\n",
       "    <g transform=\"translate(98.12777777777778 102.85000000000001)\">\n",
       "      <g class=\"typst-text\" transform=\"scale(1, -1)\">\n",
       "        <g fill=\"#000000\" fill-rule=\"nonzero\">\n",
       "          <path d=\"M 16.4 16.25 C 16.4 15 17.050001 14.35 18.4 14.35 C 20.2 14.35 21.35 15.900001 21.35 17.7 C 21.35 20.5 18.4 22.1 15.400001 22.1 C 11.95 22.1 8.8 20.6 6.1 17.65 C 3.4 14.7 2.05 11.45 2.05 7.9500003 C 2.05 3.05 5.3 -0.55 10.2 -0.55 C 12.85 -0.55 15.2 0.1 17.25 1.35 C 18.95 2.4 20.2 3.45 21 4.5 C 21.35 4.9500003 21.5 5.3 21.5 5.4500003 C 21.5 6 21.25 6.3 20.7 6.3 C 20.45 6.3 20.2 6.1 19.9 5.7000003 C 18.25 3.5 16.2 2.1000001 13.85 1.5 C 12.3 1.1 11.150001 0.90000004 10.3 0.90000004 C 7.4500003 0.90000004 6.05 2.65 6.05 6.1 C 6.05 9.2 7.5 13.7 8.7 15.85 C 9.900001 18.050001 12.45 20.65 15.400001 20.65 C 17.300001 20.65 18.6 20.1 19.300001 19.050001 C 17.75 18.9 16.4 17.9 16.4 16.25 Z \"/>\n",
       "        </g>\n",
       "      </g>\n",
       "    </g>\n",
       "    <g transform=\"translate(98.12777777777778 56.050000000000004)\">\n",
       "      <path class=\"typst-shape\" fill=\"#000000\" d=\"M 0.0 -1.2 L 22.9 -1.2 L 22.9 1.2 L 0.0 1.2 Z\"/>\n",
       "    </g>\n",
       "  </g>\n",
       "</svg>\n",
       "</div>"
      ],
      "text/plain": [
       "<IPython.core.display.HTML object>"
      ]
     },
     "metadata": {},
     "output_type": "display_data"
    }
   ],
   "source": [
    "from typst_importer.typst_to_svg import simplify_svg, replace_stroke_with_path\n",
    "\n",
    "typst.compile(typst_file, format=\"svg\", output=str(svg_file))\n",
    "\n",
    "step1_content = svg_file.read_text()\n",
    "step2_content = simplify_svg(step1_content)\n",
    "step3_content = replace_stroke_with_path(step2_content)\n",
    "\n",
    "display_svg(step1_content , width='500px')\n",
    "display_svg(step3_content , width='500px')"
   ]
  },
  {
   "cell_type": "code",
   "execution_count": 65,
   "metadata": {},
   "outputs": [],
   "source": [
    "output_file = temp_dir / \"step3.svg\"\n",
    "output_file.write_text(step3_content)\n",
    "\n",
    "bpy.ops.import_curve.svg(filepath=str(output_file))\n",
    "col = bpy.context.scene.collection.children['step3.svg']\n",
    "col.name = \"Formula\"\n",
    "\n",
    "for obj in col.objects:\n",
    "    obj.scale = (100, 100, 100)"
   ]
  },
  {
   "cell_type": "code",
   "execution_count": 66,
   "metadata": {},
   "outputs": [],
   "source": [
    "# Loop through each object in the collection and set its origin\n",
    "bpy.ops.object.select_all(action='DESELECT')\n",
    "if col.objects:\n",
    "    # Set the first object as active\n",
    "    bpy.context.view_layer.objects.active = col.objects[0]\n",
    "    # Now we can safely set the mode to OBJECT\n",
    "    bpy.ops.object.mode_set(mode='OBJECT') \n",
    "    for obj in col.objects:\n",
    "        bpy.context.view_layer.objects.active = obj\n",
    "        obj.select_set(True)\n",
    "        bpy.ops.object.origin_set(type='ORIGIN_GEOMETRY', center='MEDIAN')\n",
    "        obj.select_set(False)"
   ]
  },
  {
   "cell_type": "code",
   "execution_count": 69,
   "metadata": {},
   "outputs": [],
   "source": [
    "# OR (this can be deleted at some point)\n",
    "from typst_importer.typst_to_svg import typst_to_blender_curves\n",
    "\n",
    "collection = typst_to_blender_curves(typst_file)\n",
    "collection.name = \"Debugging_Typst_Collection\""
   ]
  },
  {
   "cell_type": "markdown",
   "metadata": {},
   "source": [
    "# Using the Package\n"
   ]
  },
  {
   "cell_type": "code",
   "execution_count": 70,
   "metadata": {},
   "outputs": [],
   "source": [
    "import tempfile\n",
    "from pathlib import Path\n",
    "from typst_importer.typst_to_svg import typst_to_blender_curves\n",
    "typst_file =  Path(tempfile.gettempdir()) / \"hello.typ\"\n",
    "\n",
    "header = \"\"\"\n",
    "#set page(width: auto, height: auto, margin: 0cm, fill: none)\n",
    "#set text(size: 50pt)\n",
    "\"\"\"\n",
    "body = \"$ a= b/c $\"\n",
    "typst_file.write_text(header+body)\n",
    "\n",
    "collection = typst_to_blender_curves(typst_file)"
   ]
  },
  {
   "cell_type": "markdown",
   "metadata": {},
   "source": [
    "# Typst Express\n",
    "(this has a default_header)"
   ]
  },
  {
   "cell_type": "code",
   "execution_count": 87,
   "metadata": {},
   "outputs": [
    {
     "data": {
      "text/plain": [
       "bpy.data.collections['Typst_typst_express_temp.008']"
      ]
     },
     "execution_count": 87,
     "metadata": {},
     "output_type": "execute_result"
    }
   ],
   "source": [
    "from typst_importer.typst_to_svg import typst_express\n",
    "typst_express(\"$ a = b/c $\")"
   ]
  },
  {
   "cell_type": "code",
   "execution_count": 100,
   "metadata": {},
   "outputs": [
    {
     "data": {
      "text/plain": [
       "bpy.data.collections['Integral Example']"
      ]
     },
     "execution_count": 100,
     "metadata": {},
     "output_type": "execute_result"
    }
   ],
   "source": [
    "from typst_importer.typst_to_svg import typst_express\n",
    "content = \"$ limits(integral)_a^b f(x) dif x $\" \n",
    "typst_express(content, name=\"Integral Example\")"
   ]
  },
  {
   "cell_type": "code",
   "execution_count": 90,
   "metadata": {},
   "outputs": [
    {
     "data": {
      "text/plain": [
       "bpy.data.collections['Typst_typst_express_temp']"
      ]
     },
     "execution_count": 90,
     "metadata": {},
     "output_type": "execute_result"
    }
   ],
   "source": [
    "typst_express(\"\"\"\n",
    "#let korange() = text(fill: orange)[$k$]\n",
    "#let nblue() = text(fill: blue)[$n$]\n",
    "$ sum_(#korange() = 1)^#nblue() #korange() = (nblue()(nblue()+1)) / 2 $  \n",
    "\"\"\")"
   ]
  },
  {
   "cell_type": "code",
   "execution_count": 92,
   "metadata": {},
   "outputs": [
    {
     "data": {
      "text/plain": [
       "bpy.data.collections['Typst_typst_express_temp.002']"
      ]
     },
     "execution_count": 92,
     "metadata": {},
     "output_type": "execute_result"
    }
   ],
   "source": [
    "typst_express(\"\"\"\n",
    "#set page(width: 900pt, height: auto, margin: 0cm, fill: none)\n",
    "\n",
    "#import \"@preview/codelst:2.0.1\": sourcecode\n",
    "#import \"@preview/tablex:0.0.8\": tablex\n",
    "#let sourcecode = sourcecode.with(frame: (code) => block(\n",
    "  radius: 5pt,\n",
    "  stroke: luma(30),\n",
    "  inset: 30pt,\n",
    "  text(size: 30pt, code)\n",
    "))\n",
    "\n",
    "#sourcecode[```python\n",
    "for i in range(0,10):\n",
    "  print(i)\n",
    "```]\n",
    "\"\"\")"
   ]
  },
  {
   "cell_type": "code",
   "execution_count": null,
   "metadata": {},
   "outputs": [],
   "source": [
    "header = \"\"\"\n",
    "#set page(width: auto, height: auto, margin: 0cm, fill: none)\n",
    "#set text(size: 50pt)\n",
    "\"\"\"\n",
    "body = \"$ a = b/c $\"\n",
    "typst_express(header+body)"
   ]
  },
  {
   "cell_type": "markdown",
   "metadata": {},
   "source": [
    "# Experiment with `grease_pencil_import_svg`"
   ]
  },
  {
   "cell_type": "code",
   "execution_count": 264,
   "metadata": {},
   "outputs": [
    {
     "data": {
      "text/plain": [
       "{'FINISHED'}"
      ]
     },
     "execution_count": 264,
     "metadata": {},
     "output_type": "execute_result"
    }
   ],
   "source": [
    "from pathlib import Path\n",
    "import typst\n",
    "import tempfile\n",
    "\n",
    "temp_dir = Path(tempfile.gettempdir())\n",
    "typst_file = temp_dir / \"step1.typ\"\n",
    "svg_file = temp_dir / \"step1.svg\"\n",
    "\n",
    "file_content = \"\"\"\n",
    "#set page(width: auto, height: auto, margin: 0cm, fill: none)\n",
    "#set text(size: 50pt)\n",
    "\n",
    "#let korange() = text(fill: orange)[$k$]\n",
    "#let nblue() = text(fill: blue)[$n$]\n",
    "\n",
    "$ sum_(#korange() = 1)^#nblue() #korange() = (nblue()(nblue()+1)) / 2 + B + F + O $  \n",
    "\"\"\"\n",
    "typst_file.write_text(file_content)\n",
    "typst.compile(typst_file, format=\"svg\", output=str(svg_file))\n",
    "\n",
    "from typst_importer.typst_to_svg import simplify_svg, replace_stroke_with_path\n",
    "\n",
    "step1_content = svg_file.read_text()\n",
    "step2_content = simplify_svg(step1_content)\n",
    "step3_content = replace_stroke_with_path(step2_content)\n",
    "\n",
    "output_file = temp_dir / \"output.svg\"\n",
    "output_file.write_text(step3_content)\n",
    "\n",
    "bpy.ops.wm.grease_pencil_import_svg(filepath=str(output_file))"
   ]
  }
 ],
 "metadata": {
  "kernelspec": {
   "display_name": "Python 3 (ipykernel)",
   "language": "python",
   "name": "python3"
  },
  "language_info": {
   "codemirror_mode": {
    "name": "ipython",
    "version": 3
   },
   "file_extension": ".py",
   "mimetype": "text/x-python",
   "name": "python",
   "nbconvert_exporter": "python",
   "pygments_lexer": "ipython3",
   "version": "3.11.9"
  }
 },
 "nbformat": 4,
 "nbformat_minor": 2
}
