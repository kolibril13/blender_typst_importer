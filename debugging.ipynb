{
 "cells": [
  {
   "cell_type": "code",
   "execution_count": null,
   "metadata": {},
   "outputs": [],
   "source": [
    "%reload_ext autoreload\n",
    "%autoreload 2"
   ]
  },
  {
   "cell_type": "code",
   "execution_count": 5,
   "metadata": {},
   "outputs": [],
   "source": [
    "# from pathlib import Path\n",
    "# import sys\n",
    "\n",
    "# # Get the parent directory of the current notebook\n",
    "# project_root = Path.cwd().parent\n",
    "\n",
    "# # Add the project root to the Python path\n",
    "# sys.path.append(str(project_root))\n",
    "\n",
    "#uv pip install lxml\n",
    "#uv pip install numpy==1.26.4\n"
   ]
  },
  {
   "cell_type": "code",
   "execution_count": 14,
   "metadata": {},
   "outputs": [],
   "source": [
    "import bpy\n",
    "from pathlib import Path\n",
    "import typst\n",
    "import tempfile\n",
    "\n",
    "temp_dir = Path(tempfile.gettempdir())\n",
    "temp_dir = Path.cwd()\n",
    "typst_file = temp_dir / \"step1.typ\"\n",
    "svg_file = temp_dir / \"step1.svg\""
   ]
  },
  {
   "cell_type": "code",
   "execution_count": null,
   "metadata": {},
   "outputs": [],
   "source": [
    "\n",
    "file_content = \"\"\"\n",
    "#set page(width: auto, height: auto, margin: 0cm, fill: none)\n",
    "#set text(size: 20pt)\n",
    "\n",
    "$ a= b/c $  \n",
    "\"\"\"\n",
    "typst_file.write_text(file_content)\n",
    "typst.compile(typst_file, format=\"svg\", output=str(svg_file))"
   ]
  },
  {
   "cell_type": "code",
   "execution_count": null,
   "metadata": {},
   "outputs": [],
   "source": [
    "file_content = \"\"\"\n",
    "#set page(width: auto, height: auto, margin: 0cm, fill: none)\n",
    "#set text(size: 80pt)\n",
    "\n",
    "#let korange() = text(fill: orange)[$k$]\n",
    "#let nblue() = text(fill: blue)[$n$]\n",
    "\n",
    "$ sum_(#korange() = 1)^#nblue() #korange() = (nblue()(nblue()+1)) / 2 $  \n",
    "\"\"\"\n",
    "\n",
    "typst_file.write_text(file_content)\n",
    "typst.compile(typst_file, format=\"svg\", output=str(svg_file))"
   ]
  },
  {
   "cell_type": "code",
   "execution_count": null,
   "metadata": {},
   "outputs": [],
   "source": [
    "file_content = \"\"\"\n",
    "#set page(width: 1000pt, height: auto, margin: 0cm, fill: none)\n",
    "#set text(size: 5000pt)\n",
    "\n",
    "#import \"@preview/codelst:2.0.1\": sourcecode\n",
    "#import \"@preview/tablex:0.0.8\": tablex\n",
    "\n",
    "#let sourcecode = sourcecode.with(frame: (code) => block(\n",
    "  radius: 5pt,\n",
    "  stroke: luma(30),\n",
    "  inset: 30pt,\n",
    "  text(size: 30pt, code)\n",
    "))\n",
    "\n",
    "#sourcecode[```python\n",
    "for i in range(0,10):\n",
    "  print(i)\n",
    "```]\n",
    "\"\"\"\n",
    "\n",
    "typst_file.write_text(file_content)\n",
    "typst.compile(typst_file, format=\"svg\", output=str(svg_file))\n"
   ]
  },
  {
   "cell_type": "code",
   "execution_count": null,
   "metadata": {},
   "outputs": [],
   "source": [
    "\n",
    "\n",
    "from typst_importer.typst_to_svg import simplify_svg, replace_stroke_with_path\n",
    "\n",
    "step1_content = svg_file.read_text()\n",
    "#print(step1_content)\n",
    "step2_content = simplify_svg(step1_content)\n",
    "#print(step2_content)\n",
    "step3_content = replace_stroke_with_path(step2_content)\n",
    "#print(step3_content)"
   ]
  },
  {
   "cell_type": "code",
   "execution_count": null,
   "metadata": {},
   "outputs": [],
   "source": [
    "from IPython.display import SVG, display\n",
    "\n",
    "output_file = temp_dir / \"step3.svg\"\n",
    "output_file.write_text(step3_content)\n",
    "\n",
    "from IPython.display import SVG, display\n",
    "display(SVG(filename=str(svg_file)))\n",
    "display(SVG(filename=str(output_file)))"
   ]
  },
  {
   "cell_type": "code",
   "execution_count": null,
   "metadata": {},
   "outputs": [],
   "source": []
  },
  {
   "cell_type": "code",
   "execution_count": null,
   "metadata": {},
   "outputs": [],
   "source": []
  },
  {
   "cell_type": "code",
   "execution_count": null,
   "metadata": {},
   "outputs": [],
   "source": []
  }
 ],
 "metadata": {
  "kernelspec": {
   "display_name": "Python 3 (ipykernel)",
   "language": "python",
   "name": "python3"
  },
  "language_info": {
   "codemirror_mode": {
    "name": "ipython",
    "version": 3
   },
   "file_extension": ".py",
   "mimetype": "text/x-python",
   "name": "python",
   "nbconvert_exporter": "python",
   "pygments_lexer": "ipython3",
   "version": "3.11.9"
  }
 },
 "nbformat": 4,
 "nbformat_minor": 2
}
