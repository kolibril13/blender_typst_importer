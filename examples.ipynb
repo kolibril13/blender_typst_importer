{
 "cells": [
  {
   "cell_type": "markdown",
   "metadata": {},
   "source": [
    "# Typst Express Docs"
   ]
  },
  {
   "cell_type": "code",
   "execution_count": 491,
   "metadata": {},
   "outputs": [],
   "source": [
    "%reload_ext autoreload\n",
    "%autoreload 2"
   ]
  },
  {
   "cell_type": "code",
   "execution_count": 493,
   "metadata": {},
   "outputs": [
    {
     "ename": "ImportError",
     "evalue": "cannot import name 'preprocess_svg' from 'typst_importer.svg_preprocessing' (/Users/jan-hendrik/projects/blender_typst_importer/typst_importer/svg_preprocessing.py)",
     "output_type": "error",
     "traceback": [
      "\u001b[0;31m---------------------------------------------------------------------------\u001b[0m",
      "\u001b[0;31mImportError\u001b[0m                               Traceback (most recent call last)",
      "Cell \u001b[0;32mIn[493], line 1\u001b[0m\n\u001b[0;32m----> 1\u001b[0m \u001b[38;5;28;01mfrom\u001b[39;00m \u001b[38;5;21;01mtypst_importer\u001b[39;00m\u001b[38;5;21;01m.\u001b[39;00m\u001b[38;5;21;01mtypst_to_svg\u001b[39;00m \u001b[38;5;28;01mimport\u001b[39;00m typst_express\n\u001b[1;32m      2\u001b[0m \u001b[38;5;28;01mfrom\u001b[39;00m \u001b[38;5;21;01mtypst_importer\u001b[39;00m\u001b[38;5;21;01m.\u001b[39;00m\u001b[38;5;21;01mcurve_utils\u001b[39;00m \u001b[38;5;28;01mimport\u001b[39;00m shift_scene_content\n\u001b[1;32m      4\u001b[0m c \u001b[38;5;241m=\u001b[39m typst_express(\u001b[38;5;124m\"\u001b[39m\u001b[38;5;124m$ a = b/d$\u001b[39m\u001b[38;5;124m\"\u001b[39m, scale_factor\u001b[38;5;241m=\u001b[39m\u001b[38;5;241m100\u001b[39m, origin_to_char\u001b[38;5;241m=\u001b[39m\u001b[38;5;28;01mFalse\u001b[39;00m)\n",
      "File \u001b[0;32m~/projects/blender_typst_importer/typst_importer/typst_to_svg.py:7\u001b[0m\n\u001b[1;32m      5\u001b[0m \u001b[38;5;28;01mimport\u001b[39;00m \u001b[38;5;21;01mbpy\u001b[39;00m\n\u001b[1;32m      6\u001b[0m \u001b[38;5;28;01mimport\u001b[39;00m \u001b[38;5;21;01mtypst\u001b[39;00m\n\u001b[0;32m----> 7\u001b[0m \u001b[38;5;28;01mfrom\u001b[39;00m \u001b[38;5;21;01m.\u001b[39;00m\u001b[38;5;21;01msvg_preprocessing\u001b[39;00m \u001b[38;5;28;01mimport\u001b[39;00m preprocess_svg\n\u001b[1;32m     10\u001b[0m \u001b[38;5;28;01mdef\u001b[39;00m \u001b[38;5;21mtypst_to_blender_curves\u001b[39m(\n\u001b[1;32m     11\u001b[0m     typst_file: Path, scale_factor: \u001b[38;5;28mfloat\u001b[39m \u001b[38;5;241m=\u001b[39m \u001b[38;5;241m100.0\u001b[39m, origin_to_char: \u001b[38;5;28mbool\u001b[39m \u001b[38;5;241m=\u001b[39m \u001b[38;5;28;01mFalse\u001b[39;00m\n\u001b[1;32m     12\u001b[0m ) \u001b[38;5;241m-\u001b[39m\u001b[38;5;241m>\u001b[39m bpy\u001b[38;5;241m.\u001b[39mtypes\u001b[38;5;241m.\u001b[39mCollection:\n\u001b[1;32m     13\u001b[0m \u001b[38;5;250m    \u001b[39m\u001b[38;5;124;03m\"\"\"\u001b[39;00m\n\u001b[1;32m     14\u001b[0m \u001b[38;5;124;03m    Compile a .txt or .typ file to an SVG using Typst,\u001b[39;00m\n\u001b[1;32m     15\u001b[0m \u001b[38;5;124;03m    then import the generated SVG into Blender.\u001b[39;00m\n\u001b[0;32m   (...)\u001b[0m\n\u001b[1;32m     23\u001b[0m \u001b[38;5;124;03m        bpy.types.Collection: The collection of imported Blender curves.\u001b[39;00m\n\u001b[1;32m     24\u001b[0m \u001b[38;5;124;03m    \"\"\"\u001b[39;00m\n",
      "\u001b[0;31mImportError\u001b[0m: cannot import name 'preprocess_svg' from 'typst_importer.svg_preprocessing' (/Users/jan-hendrik/projects/blender_typst_importer/typst_importer/svg_preprocessing.py)"
     ]
    }
   ],
   "source": [
    "from typst_importer.typst_to_svg import typst_express\n",
    "from typst_importer.curve_utils import shift_scene_content\n",
    "\n",
    "c = typst_express(\"$ a = b/d$\", scale_factor=100, origin_to_char=False)\n",
    "shift_scene_content(c)  "
   ]
  },
  {
   "cell_type": "code",
   "execution_count": 496,
   "metadata": {},
   "outputs": [
    {
     "name": "stdout",
     "output_type": "stream",
     "text": [
      "Removing typst_importer.svg_preprocessing from sys.modules\n"
     ]
    },
    {
     "ename": "ModuleNotFoundError",
     "evalue": "No module named 'svg'",
     "output_type": "error",
     "traceback": [
      "\u001b[0;31m---------------------------------------------------------------------------\u001b[0m",
      "\u001b[0;31mModuleNotFoundError\u001b[0m                       Traceback (most recent call last)",
      "Cell \u001b[0;32mIn[496], line 10\u001b[0m\n\u001b[1;32m      7\u001b[0m         \u001b[38;5;28;01mdel\u001b[39;00m sys\u001b[38;5;241m.\u001b[39mmodules[mod]\n\u001b[1;32m      9\u001b[0m \u001b[38;5;66;03m# Now Python 'forgets' those imports. Reimport them:\u001b[39;00m\n\u001b[0;32m---> 10\u001b[0m \u001b[38;5;28;01mfrom\u001b[39;00m \u001b[38;5;21;01mtypst_importer\u001b[39;00m\u001b[38;5;21;01m.\u001b[39;00m\u001b[38;5;21;01mtypst_to_svg\u001b[39;00m \u001b[38;5;28;01mimport\u001b[39;00m typst_express\n\u001b[1;32m     11\u001b[0m \u001b[38;5;28;01mfrom\u001b[39;00m \u001b[38;5;21;01mtypst_importer\u001b[39;00m\u001b[38;5;21;01m.\u001b[39;00m\u001b[38;5;21;01mcurve_utils\u001b[39;00m \u001b[38;5;28;01mimport\u001b[39;00m shift_scene_content\n",
      "File \u001b[0;32m~/projects/blender_typst_importer/typst_importer/typst_to_svg.py:7\u001b[0m\n\u001b[1;32m      5\u001b[0m \u001b[38;5;28;01mimport\u001b[39;00m \u001b[38;5;21;01mbpy\u001b[39;00m\n\u001b[1;32m      6\u001b[0m \u001b[38;5;28;01mimport\u001b[39;00m \u001b[38;5;21;01mtypst\u001b[39;00m\n\u001b[0;32m----> 7\u001b[0m \u001b[38;5;28;01mfrom\u001b[39;00m \u001b[38;5;21;01m.\u001b[39;00m\u001b[38;5;21;01msvg_preprocessing\u001b[39;00m \u001b[38;5;28;01mimport\u001b[39;00m preprocess_svg\n\u001b[1;32m     10\u001b[0m \u001b[38;5;28;01mdef\u001b[39;00m \u001b[38;5;21mtypst_to_blender_curves\u001b[39m(\n\u001b[1;32m     11\u001b[0m     typst_file: Path, scale_factor: \u001b[38;5;28mfloat\u001b[39m \u001b[38;5;241m=\u001b[39m \u001b[38;5;241m100.0\u001b[39m, origin_to_char: \u001b[38;5;28mbool\u001b[39m \u001b[38;5;241m=\u001b[39m \u001b[38;5;28;01mFalse\u001b[39;00m\n\u001b[1;32m     12\u001b[0m ) \u001b[38;5;241m-\u001b[39m\u001b[38;5;241m>\u001b[39m bpy\u001b[38;5;241m.\u001b[39mtypes\u001b[38;5;241m.\u001b[39mCollection:\n\u001b[1;32m     13\u001b[0m \u001b[38;5;250m    \u001b[39m\u001b[38;5;124;03m\"\"\"\u001b[39;00m\n\u001b[1;32m     14\u001b[0m \u001b[38;5;124;03m    Compile a .txt or .typ file to an SVG using Typst,\u001b[39;00m\n\u001b[1;32m     15\u001b[0m \u001b[38;5;124;03m    then import the generated SVG into Blender.\u001b[39;00m\n\u001b[0;32m   (...)\u001b[0m\n\u001b[1;32m     23\u001b[0m \u001b[38;5;124;03m        bpy.types.Collection: The collection of imported Blender curves.\u001b[39;00m\n\u001b[1;32m     24\u001b[0m \u001b[38;5;124;03m    \"\"\"\u001b[39;00m\n",
      "File \u001b[0;32m~/projects/blender_typst_importer/typst_importer/svg_preprocessing.py:4\u001b[0m\n\u001b[1;32m      2\u001b[0m \u001b[38;5;28;01mimport\u001b[39;00m \u001b[38;5;21;01mcopy\u001b[39;00m\n\u001b[1;32m      3\u001b[0m \u001b[38;5;28;01mimport\u001b[39;00m \u001b[38;5;21;01mmath\u001b[39;00m\n\u001b[0;32m----> 4\u001b[0m \u001b[38;5;28;01mfrom\u001b[39;00m \u001b[38;5;21;01msvg\u001b[39;00m\u001b[38;5;21;01m.\u001b[39;00m\u001b[38;5;21;01mpath\u001b[39;00m \u001b[38;5;28;01mimport\u001b[39;00m parse_path\n\u001b[1;32m      6\u001b[0m \u001b[38;5;66;03m# SVG namespace used throughout.\u001b[39;00m\n\u001b[1;32m      7\u001b[0m SVG_NS \u001b[38;5;241m=\u001b[39m \u001b[38;5;124m\"\u001b[39m\u001b[38;5;124mhttp://www.w3.org/2000/svg\u001b[39m\u001b[38;5;124m\"\u001b[39m\n",
      "\u001b[0;31mModuleNotFoundError\u001b[0m: No module named 'svg'"
     ]
    }
   ],
   "source": [
    "import sys\n",
    "\n",
    "# Remove the modules if they exist in sys.modules\n",
    "for mod in [\"typst_importer.typst_to_svg\", \"typst_importer.curve_utils\", \"typst_importer.svg_preprocessing\"]:\n",
    "    if mod in sys.modules:\n",
    "        print(f\"Removing {mod} from sys.modules\")\n",
    "        del sys.modules[mod]\n",
    "\n",
    "# Now Python 'forgets' those imports. Reimport them:\n",
    "from typst_importer.typst_to_svg import typst_express\n",
    "from typst_importer.curve_utils import shift_scene_content"
   ]
  },
  {
   "cell_type": "code",
   "execution_count": 486,
   "metadata": {},
   "outputs": [],
   "source": [
    "content = \"$ limits(integral)_a^b f(x) dif x $\" \n",
    "c = typst_express(content, name=\"Integral Example\")\n",
    "shift_scene_content(c) "
   ]
  },
  {
   "cell_type": "code",
   "execution_count": 472,
   "metadata": {},
   "outputs": [],
   "source": [
    "c = typst_express(\"\"\"\n",
    "#let korange() = text(fill: orange)[$k$]\n",
    "#let nblue() = text(fill: blue)[$n$]\n",
    "$ sum_(#korange() = 1)^#nblue() #korange() = (nblue()(nblue()+1)) / 2 $  \n",
    "\"\"\")\n",
    "shift_scene_content(c) "
   ]
  },
  {
   "cell_type": "code",
   "execution_count": 476,
   "metadata": {},
   "outputs": [],
   "source": [
    "from typst_importer.typst_to_svg import typst_express\n",
    "from typst_importer.curve_utils import shift_scene_content\n",
    "\n",
    "c = typst_express(\"\"\"\n",
    "#set page(width: 900pt, height: auto, margin: 0cm, fill: none)\n",
    "\n",
    "#import \"@preview/codelst:2.0.1\": sourcecode\n",
    "#import \"@preview/tablex:0.0.8\": tablex\n",
    "#let sourcecode = sourcecode.with(frame: (code) => block(\n",
    "  radius: 5pt,\n",
    "  stroke: luma(30),\n",
    "  inset: 30pt,\n",
    "  text(size: 30pt, code)\n",
    "))\n",
    "\n",
    "#sourcecode[```python\n",
    "for i in range(0,10):\n",
    "  print(i)\n",
    "```]\n",
    "\"\"\")\n",
    "shift_scene_content(c, margin=1.2) "
   ]
  },
  {
   "cell_type": "code",
   "execution_count": 464,
   "metadata": {},
   "outputs": [],
   "source": [
    "content = \"\"\"\n",
    "#set page(width: 900pt, height: auto, margin: 0cm, fill: none)\n",
    "\n",
    "#import \"@preview/codelst:2.0.1\": sourcecode\n",
    "#import \"@preview/tablex:0.0.8\": tablex\n",
    "\n",
    "#let sourcecode = sourcecode.with(frame: (code) => block(\n",
    "  radius: 5pt,\n",
    "  stroke: luma(30),\n",
    "  inset: 30pt,\n",
    "  text(size: 30pt, code)\n",
    "))\n",
    "\n",
    "#sourcecode[```python\n",
    "\n",
    "class HelloWorld:\n",
    "    def __init__(self):\n",
    "        self.message = \"Hello, world!\"\n",
    "\n",
    "    def greet(self):\n",
    "        print(self.message)\n",
    "\n",
    "if __name__ == \"__main__\":\n",
    "    hello = HelloWorld()\n",
    "    hello.greet()\n",
    "```]\n",
    "\"\"\"\n",
    "c = typst_express(content)\n",
    "shift_scene_content(c) "
   ]
  },
  {
   "cell_type": "code",
   "execution_count": 406,
   "metadata": {},
   "outputs": [],
   "source": [
    "header = \"\"\"\n",
    "#set page(width: auto, height: auto, margin: 0cm, fill: none)\n",
    "#set text(size: 50pt)\n",
    "\"\"\"\n",
    "body = \"$ a = b/c $\"\n",
    "c = typst_express(header+body)\n",
    "shift_scene_content(c) "
   ]
  },
  {
   "cell_type": "code",
   "execution_count": 407,
   "metadata": {},
   "outputs": [
    {
     "name": "stderr",
     "output_type": "stream",
     "text": [
      "[I 2025-02-06 18:47:43.216 ServerApp] 302 GET / (@127.0.0.1) 0.45ms\n",
      "[I 2025-02-06 18:47:43.217 LabApp] 302 GET /lab? (@127.0.0.1) 0.65ms\n",
      "[I 2025-02-06 18:47:43.257 ServerApp] Kernel started: 260fac4f-506a-4803-a420-6a6d8ddd5ad6\n"
     ]
    }
   ],
   "source": [
    "header = \"\"\"\n",
    "#set page(width: auto, height: auto, margin: 0cm, fill: none)\n",
    "#set text(size: 50pt)\n",
    "\"\"\"\n",
    "body = \"$ limits(integral)_a^b f(x) dif x $\"\n",
    "c = typst_express(header+body)\n",
    "shift_scene_content(c) "
   ]
  },
  {
   "cell_type": "code",
   "execution_count": null,
   "metadata": {},
   "outputs": [],
   "source": []
  }
 ],
 "metadata": {
  "kernelspec": {
   "display_name": "Python 3 (ipykernel)",
   "language": "python",
   "name": "python3"
  },
  "language_info": {
   "codemirror_mode": {
    "name": "ipython",
    "version": 3
   },
   "file_extension": ".py",
   "mimetype": "text/x-python",
   "name": "python",
   "nbconvert_exporter": "python",
   "pygments_lexer": "ipython3",
   "version": "3.11.9"
  }
 },
 "nbformat": 4,
 "nbformat_minor": 2
}
