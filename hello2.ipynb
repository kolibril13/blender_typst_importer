{
 "cells": [
  {
   "cell_type": "code",
   "execution_count": 17,
   "metadata": {},
   "outputs": [],
   "source": [
    "%reload_ext autoreload\n",
    "%autoreload 2"
   ]
  },
  {
   "cell_type": "code",
   "execution_count": 23,
   "metadata": {},
   "outputs": [
    {
     "name": "stdout",
     "output_type": "stream",
     "text": [
      "Removing typst_importer.typst_to_svg from sys.modules\n",
      "Removing typst_importer.svg_preprocessing from sys.modules\n"
     ]
    }
   ],
   "source": [
    "import sys\n",
    "from pathlib import Path\n",
    "\n",
    "# just in case reload_ext does not work\n",
    "# Remove the modules if they exist in sys.modules\n",
    "for mod in [\"typst_importer.typst_to_svg\", \"typst_importer.curve_utils\", \"typst_importer.svg_preprocessing\"]:\n",
    "    if mod in sys.modules:\n",
    "        print(f\"Removing {mod} from sys.modules\")\n",
    "        del sys.modules[mod]\n",
    "\n",
    "project_root = Path.home() / \"projects/blender_typst_importer/\"\n",
    "sys.path.append(str(project_root))"
   ]
  },
  {
   "cell_type": "code",
   "execution_count": 31,
   "metadata": {},
   "outputs": [
    {
     "name": "stdout",
     "output_type": "stream",
     "text": [
      "Info: Deleted 85 data-block(s)\n",
      "Info: No orphaned data-blocks to purge\n",
      "Info: No orphaned data-blocks to purge\n",
      "Positioasdasdn: (0, 0, 0)\n",
      "Info: Deleted 10 data-block(s)\n",
      "Info: No orphaned data-blocks to purge\n",
      "Info: No orphaned data-blocks to purge\n",
      "Positioasdasdn: (2, 2, 0)\n"
     ]
    }
   ],
   "source": [
    "from typst_importer.typst_to_svg import typst_express\n",
    "\n",
    "eq1 = \"\"\"\n",
    "Hello!!!!\n",
    "\"\"\"\n",
    "\n",
    "eq2 = \"\"\"\n",
    "World!!!!!\n",
    "\"\"\"\n",
    "\n",
    "result_eq1 = typst_express(\n",
    "    eq1,\n",
    "    origin_to_char=True,\n",
    "    convert_to_mesh=True,\n",
    "    name=\"Term1\",\n",
    "    position=(0, 0, 0),  # Place at origin\n",
    ")\n",
    "\n",
    "result_eq2 = typst_express(\n",
    "    eq2,\n",
    "    origin_to_char=True,\n",
    "    convert_to_mesh=True,\n",
    "    name=\"Term2\",\n",
    "    position=(2, 2, 0),  # Place 2 units to the right\n",
    ")"
   ]
  },
  {
   "cell_type": "markdown",
   "metadata": {},
   "source": []
  },
  {
   "cell_type": "code",
   "execution_count": 32,
   "metadata": {},
   "outputs": [
    {
     "name": "stdout",
     "output_type": "stream",
     "text": [
      "Info: Deleted 2 data-block(s)\n",
      "Info: No orphaned data-blocks to purge\n",
      "Info: No orphaned data-blocks to purge\n"
     ]
    },
    {
     "data": {
      "text/plain": [
       "bpy.data.collections['Example']"
      ]
     },
     "execution_count": 32,
     "metadata": {},
     "output_type": "execute_result"
    }
   ],
   "source": [
    "typst_express(\n",
    "    \"hi\",\n",
    "    name=\"Example\",\n",
    "    position=(2, 2, 0),  # Place 2 units to the right\n",
    ")"
   ]
  }
 ],
 "metadata": {
  "kernelspec": {
   "display_name": "Python 3 (ipykernel)",
   "language": "python",
   "name": "python3"
  },
  "language_info": {
   "codemirror_mode": {
    "name": "ipython",
    "version": 3
   },
   "file_extension": ".py",
   "mimetype": "text/x-python",
   "name": "python",
   "nbconvert_exporter": "python",
   "pygments_lexer": "ipython3",
   "version": "3.11.9"
  }
 },
 "nbformat": 4,
 "nbformat_minor": 2
}
